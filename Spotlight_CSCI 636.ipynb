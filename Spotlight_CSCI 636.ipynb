{
  "nbformat": 4,
  "nbformat_minor": 0,
  "metadata": {
    "kernelspec": {
      "display_name": "Python 3",
      "language": "python",
      "name": "python3"
    },
    "language_info": {
      "codemirror_mode": {
        "name": "ipython",
        "version": 3
      },
      "file_extension": ".py",
      "mimetype": "text/x-python",
      "name": "python",
      "nbconvert_exporter": "python",
      "pygments_lexer": "ipython3",
      "version": "3.8.8"
    },
    "colab": {
      "name": "spotlight_csci636.ipynb",
      "provenance": []
    }
  },
  "cells": [
    {
      "cell_type": "markdown",
      "metadata": {
        "id": "DZaBau6qY7Ri"
      },
      "source": [
        "# Spotlight CSCI 636: Recommending Articles using Content-based Analysis\n",
        "_Team Members:_ \n",
        "1. Miftahul Jannat Mokarrama, Z1936043\n",
        "2. Bhavana Ramineni, Z1904418\n"
      ]
    },
    {
      "cell_type": "markdown",
      "metadata": {
        "id": "rKN7DMshY7Rs"
      },
      "source": [
        "# Task 1: Setup \n",
        "At fisrt, proper environment for this specification is created using necessary modules, files, and libraries \n",
        "## System Specification:\n",
        "Windows 10, 64-bit <br>\n",
        "Processor: core i7 <br>\n",
        "python 3.0 <br>\n",
        "IDE: Anaconda->JupyterLab 2.2.6 <br>\n",
        "\n",
        "***Note: There may be some variations in command depending on the system specification and versions***\n",
        "\n",
        "Necessary Libraries:<br>\n",
        "\n",
        "- **gensim:** An open source python library for natural language processing.\n",
        "    - *Helpful link:*  \n",
        "https://www.machinelearningplus.com/nlp/gensim-tutorial/ <br>\n",
        "\n",
        "- **Spacy:** A free, open-source library for NLP in Python and Cython that is designed to build information extraction or natural language understanding systems providing a concise and user-friendly API. \n",
        "    - *Helpful link:* <br>\n",
        "https://realpython.com/natural-language-processing-spacy-python/ <br>\n",
        "https://www.analyticsvidhya.com/blog/2020/03/spacy-tutorial-learn-natural-language-processing/"
      ]
    },
    {
      "cell_type": "code",
      "metadata": {
        "id": "R14KCJI4Y7Rt"
      },
      "source": [
        "import numpy as np\n",
        "import pandas as pd\n",
        "\n",
        "import matplotlib.pyplot as plt\n",
        "import seaborn as sns\n",
        "\n",
        "# Below libraries are for feature representation using sklearn\n",
        "from sklearn.feature_extraction.text import CountVectorizer\n",
        "from sklearn.feature_extraction.text import TfidfVectorizer\n",
        "\n",
        "# Below libraries are for similarity matrices using sklearn\n",
        "from sklearn.metrics.pairwise import cosine_similarity  \n",
        "from sklearn.metrics import pairwise_distances"
      ],
      "execution_count": null,
      "outputs": []
    },
    {
      "cell_type": "code",
      "metadata": {
        "id": "DE_37EG6Y7Rw",
        "outputId": "cccf5a60-d875-412d-c266-a7ec630f55dd"
      },
      "source": [
        "pip install gensim"
      ],
      "execution_count": null,
      "outputs": [
        {
          "name": "stdout",
          "output_type": "stream",
          "text": [
            "Requirement already satisfied: gensim in c:\\users\\z1936043\\anaconda3\\lib\\site-packages (4.1.2)\n",
            "Requirement already satisfied: Cython==0.29.23 in c:\\users\\z1936043\\anaconda3\\lib\\site-packages (from gensim) (0.29.23)\n",
            "Requirement already satisfied: smart-open>=1.8.1 in c:\\users\\z1936043\\anaconda3\\lib\\site-packages (from gensim) (5.2.1)\n",
            "Requirement already satisfied: numpy>=1.17.0 in c:\\users\\z1936043\\anaconda3\\lib\\site-packages (from gensim) (1.20.1)\n",
            "Requirement already satisfied: scipy>=0.18.1 in c:\\users\\z1936043\\anaconda3\\lib\\site-packages (from gensim) (1.6.2)\n",
            "Note: you may need to restart the kernel to use updated packages.\n"
          ]
        }
      ]
    },
    {
      "cell_type": "code",
      "metadata": {
        "id": "QGoql1RMY7Ry",
        "outputId": "7d1443a4-bbc9-4273-c515-30120bf367b5"
      },
      "source": [
        "pip install spacy"
      ],
      "execution_count": null,
      "outputs": [
        {
          "name": "stdout",
          "output_type": "stream",
          "text": [
            "Requirement already satisfied: spacy in c:\\users\\z1936043\\anaconda3\\lib\\site-packages (3.1.4)\n",
            "Requirement already satisfied: wasabi<1.1.0,>=0.8.1 in c:\\users\\z1936043\\anaconda3\\lib\\site-packages (from spacy) (0.8.2)\n",
            "Requirement already satisfied: pathy>=0.3.5 in c:\\users\\z1936043\\anaconda3\\lib\\site-packages (from spacy) (0.6.1)\n",
            "Requirement already satisfied: catalogue<2.1.0,>=2.0.6 in c:\\users\\z1936043\\anaconda3\\lib\\site-packages (from spacy) (2.0.6)\n",
            "Requirement already satisfied: srsly<3.0.0,>=2.4.1 in c:\\users\\z1936043\\anaconda3\\lib\\site-packages (from spacy) (2.4.2)\n",
            "Requirement already satisfied: packaging>=20.0 in c:\\users\\z1936043\\anaconda3\\lib\\site-packages (from spacy) (20.9)\n",
            "Requirement already satisfied: numpy>=1.15.0 in c:\\users\\z1936043\\anaconda3\\lib\\site-packages (from spacy) (1.20.1)\n",
            "Requirement already satisfied: preshed<3.1.0,>=3.0.2 in c:\\users\\z1936043\\anaconda3\\lib\\site-packages (from spacy) (3.0.6)\n",
            "Requirement already satisfied: spacy-legacy<3.1.0,>=3.0.8 in c:\\users\\z1936043\\anaconda3\\lib\\site-packages (from spacy) (3.0.8)\n",
            "Requirement already satisfied: blis<0.8.0,>=0.4.0 in c:\\users\\z1936043\\anaconda3\\lib\\site-packages (from spacy) (0.7.5)\n",
            "Requirement already satisfied: typer<0.5.0,>=0.3.0 in c:\\users\\z1936043\\anaconda3\\lib\\site-packages (from spacy) (0.4.0)\n",
            "Requirement already satisfied: pydantic!=1.8,!=1.8.1,<1.9.0,>=1.7.4 in c:\\users\\z1936043\\anaconda3\\lib\\site-packages (from spacy) (1.8.2)\n",
            "Requirement already satisfied: setuptools in c:\\users\\z1936043\\anaconda3\\lib\\site-packages (from spacy) (52.0.0.post20210125)\n",
            "Requirement already satisfied: jinja2 in c:\\users\\z1936043\\anaconda3\\lib\\site-packages (from spacy) (2.11.3)\n",
            "Requirement already satisfied: tqdm<5.0.0,>=4.38.0 in c:\\users\\z1936043\\anaconda3\\lib\\site-packages (from spacy) (4.59.0)\n",
            "Requirement already satisfied: thinc<8.1.0,>=8.0.12 in c:\\users\\z1936043\\anaconda3\\lib\\site-packages (from spacy) (8.0.12)\n",
            "Requirement already satisfied: murmurhash<1.1.0,>=0.28.0 in c:\\users\\z1936043\\anaconda3\\lib\\site-packages (from spacy) (1.0.6)\n",
            "Requirement already satisfied: requests<3.0.0,>=2.13.0 in c:\\users\\z1936043\\anaconda3\\lib\\site-packages (from spacy) (2.25.1)\n",
            "Requirement already satisfied: cymem<2.1.0,>=2.0.2 in c:\\users\\z1936043\\anaconda3\\lib\\site-packages (from spacy) (2.0.6)\n",
            "Requirement already satisfied: pyparsing>=2.0.2 in c:\\users\\z1936043\\anaconda3\\lib\\site-packages (from packaging>=20.0->spacy) (2.4.7)\n",
            "Requirement already satisfied: smart-open<6.0.0,>=5.0.0 in c:\\users\\z1936043\\anaconda3\\lib\\site-packages (from pathy>=0.3.5->spacy) (5.2.1)\n",
            "Requirement already satisfied: typing-extensions>=3.7.4.3 in c:\\users\\z1936043\\anaconda3\\lib\\site-packages (from pydantic!=1.8,!=1.8.1,<1.9.0,>=1.7.4->spacy) (3.7.4.3)\n",
            "Requirement already satisfied: chardet<5,>=3.0.2 in c:\\users\\z1936043\\anaconda3\\lib\\site-packages (from requests<3.0.0,>=2.13.0->spacy) (4.0.0)\n",
            "Requirement already satisfied: certifi>=2017.4.17 in c:\\users\\z1936043\\anaconda3\\lib\\site-packages (from requests<3.0.0,>=2.13.0->spacy) (2020.12.5)\n",
            "Note: you may need to restart the kernel to use updated packages.Requirement already satisfied: idna<3,>=2.5 in c:\\users\\z1936043\\anaconda3\\lib\\site-packages (from requests<3.0.0,>=2.13.0->spacy) (2.10)\n",
            "Requirement already satisfied: urllib3<1.27,>=1.21.1 in c:\\users\\z1936043\\anaconda3\\lib\\site-packages (from requests<3.0.0,>=2.13.0->spacy) (1.26.4)\n",
            "Requirement already satisfied: click<9.0.0,>=7.1.1 in c:\\users\\z1936043\\anaconda3\\lib\\site-packages (from typer<0.5.0,>=0.3.0->spacy) (7.1.2)\n",
            "Requirement already satisfied: MarkupSafe>=0.23 in c:\\users\\z1936043\\anaconda3\\lib\\site-packages (from jinja2->spacy) (1.1.1)\n",
            "\n"
          ]
        }
      ]
    },
    {
      "cell_type": "code",
      "metadata": {
        "id": "SWD7DUcDY7Ry",
        "outputId": "7e53e3a4-df8d-406c-a688-28ce4e81ee35"
      },
      "source": [
        "!python -m spacy download en_core_web_sm "
      ],
      "execution_count": null,
      "outputs": [
        {
          "name": "stdout",
          "output_type": "stream",
          "text": [
            "Collecting en-core-web-sm==3.1.0\n",
            "  Downloading https://github.com/explosion/spacy-models/releases/download/en_core_web_sm-3.1.0/en_core_web_sm-3.1.0-py3-none-any.whl (13.6 MB)\n",
            "Requirement already satisfied: spacy<3.2.0,>=3.1.0 in c:\\users\\z1936043\\anaconda3\\lib\\site-packages (from en-core-web-sm==3.1.0) (3.1.4)\n",
            "Requirement already satisfied: tqdm<5.0.0,>=4.38.0 in c:\\users\\z1936043\\anaconda3\\lib\\site-packages (from spacy<3.2.0,>=3.1.0->en-core-web-sm==3.1.0) (4.59.0)\n",
            "Requirement already satisfied: catalogue<2.1.0,>=2.0.6 in c:\\users\\z1936043\\anaconda3\\lib\\site-packages (from spacy<3.2.0,>=3.1.0->en-core-web-sm==3.1.0) (2.0.6)\n",
            "Requirement already satisfied: pathy>=0.3.5 in c:\\users\\z1936043\\anaconda3\\lib\\site-packages (from spacy<3.2.0,>=3.1.0->en-core-web-sm==3.1.0) (0.6.1)\n",
            "Requirement already satisfied: blis<0.8.0,>=0.4.0 in c:\\users\\z1936043\\anaconda3\\lib\\site-packages (from spacy<3.2.0,>=3.1.0->en-core-web-sm==3.1.0) (0.7.5)\n",
            "Requirement already satisfied: thinc<8.1.0,>=8.0.12 in c:\\users\\z1936043\\anaconda3\\lib\\site-packages (from spacy<3.2.0,>=3.1.0->en-core-web-sm==3.1.0) (8.0.12)\n",
            "Requirement already satisfied: setuptools in c:\\users\\z1936043\\anaconda3\\lib\\site-packages (from spacy<3.2.0,>=3.1.0->en-core-web-sm==3.1.0) (52.0.0.post20210125)\n",
            "Requirement already satisfied: packaging>=20.0 in c:\\users\\z1936043\\anaconda3\\lib\\site-packages (from spacy<3.2.0,>=3.1.0->en-core-web-sm==3.1.0) (20.9)\n",
            "Requirement already satisfied: preshed<3.1.0,>=3.0.2 in c:\\users\\z1936043\\anaconda3\\lib\\site-packages (from spacy<3.2.0,>=3.1.0->en-core-web-sm==3.1.0) (3.0.6)\n",
            "Requirement already satisfied: pydantic!=1.8,!=1.8.1,<1.9.0,>=1.7.4 in c:\\users\\z1936043\\anaconda3\\lib\\site-packages (from spacy<3.2.0,>=3.1.0->en-core-web-sm==3.1.0) (1.8.2)\n",
            "Requirement already satisfied: jinja2 in c:\\users\\z1936043\\anaconda3\\lib\\site-packages (from spacy<3.2.0,>=3.1.0->en-core-web-sm==3.1.0) (2.11.3)\n",
            "Requirement already satisfied: wasabi<1.1.0,>=0.8.1 in c:\\users\\z1936043\\anaconda3\\lib\\site-packages (from spacy<3.2.0,>=3.1.0->en-core-web-sm==3.1.0) (0.8.2)\n",
            "Requirement already satisfied: cymem<2.1.0,>=2.0.2 in c:\\users\\z1936043\\anaconda3\\lib\\site-packages (from spacy<3.2.0,>=3.1.0->en-core-web-sm==3.1.0) (2.0.6)\n",
            "Requirement already satisfied: requests<3.0.0,>=2.13.0 in c:\\users\\z1936043\\anaconda3\\lib\\site-packages (from spacy<3.2.0,>=3.1.0->en-core-web-sm==3.1.0) (2.25.1)\n",
            "Requirement already satisfied: srsly<3.0.0,>=2.4.1 in c:\\users\\z1936043\\anaconda3\\lib\\site-packages (from spacy<3.2.0,>=3.1.0->en-core-web-sm==3.1.0) (2.4.2)\n",
            "Requirement already satisfied: numpy>=1.15.0 in c:\\users\\z1936043\\anaconda3\\lib\\site-packages (from spacy<3.2.0,>=3.1.0->en-core-web-sm==3.1.0) (1.20.1)\n",
            "Requirement already satisfied: typer<0.5.0,>=0.3.0 in c:\\users\\z1936043\\anaconda3\\lib\\site-packages (from spacy<3.2.0,>=3.1.0->en-core-web-sm==3.1.0) (0.4.0)\n",
            "Requirement already satisfied: spacy-legacy<3.1.0,>=3.0.8 in c:\\users\\z1936043\\anaconda3\\lib\\site-packages (from spacy<3.2.0,>=3.1.0->en-core-web-sm==3.1.0) (3.0.8)\n",
            "Requirement already satisfied: murmurhash<1.1.0,>=0.28.0 in c:\\users\\z1936043\\anaconda3\\lib\\site-packages (from spacy<3.2.0,>=3.1.0->en-core-web-sm==3.1.0) (1.0.6)\n",
            "Requirement already satisfied: pyparsing>=2.0.2 in c:\\users\\z1936043\\anaconda3\\lib\\site-packages (from packaging>=20.0->spacy<3.2.0,>=3.1.0->en-core-web-sm==3.1.0) (2.4.7)\n",
            "Requirement already satisfied: smart-open<6.0.0,>=5.0.0 in c:\\users\\z1936043\\anaconda3\\lib\\site-packages (from pathy>=0.3.5->spacy<3.2.0,>=3.1.0->en-core-web-sm==3.1.0) (5.2.1)\n",
            "Requirement already satisfied: typing-extensions>=3.7.4.3 in c:\\users\\z1936043\\anaconda3\\lib\\site-packages (from pydantic!=1.8,!=1.8.1,<1.9.0,>=1.7.4->spacy<3.2.0,>=3.1.0->en-core-web-sm==3.1.0) (3.7.4.3)\n",
            "Requirement already satisfied: certifi>=2017.4.17 in c:\\users\\z1936043\\anaconda3\\lib\\site-packages (from requests<3.0.0,>=2.13.0->spacy<3.2.0,>=3.1.0->en-core-web-sm==3.1.0) (2020.12.5)\n",
            "Requirement already satisfied: idna<3,>=2.5 in c:\\users\\z1936043\\anaconda3\\lib\\site-packages (from requests<3.0.0,>=2.13.0->spacy<3.2.0,>=3.1.0->en-core-web-sm==3.1.0) (2.10)\n",
            "Requirement already satisfied: urllib3<1.27,>=1.21.1 in c:\\users\\z1936043\\anaconda3\\lib\\site-packages (from requests<3.0.0,>=2.13.0->spacy<3.2.0,>=3.1.0->en-core-web-sm==3.1.0) (1.26.4)\n",
            "Requirement already satisfied: chardet<5,>=3.0.2 in c:\\users\\z1936043\\anaconda3\\lib\\site-packages (from requests<3.0.0,>=2.13.0->spacy<3.2.0,>=3.1.0->en-core-web-sm==3.1.0) (4.0.0)\n",
            "Requirement already satisfied: click<9.0.0,>=7.1.1 in c:\\users\\z1936043\\anaconda3\\lib\\site-packages (from typer<0.5.0,>=0.3.0->spacy<3.2.0,>=3.1.0->en-core-web-sm==3.1.0) (7.1.2)\n",
            "Requirement already satisfied: MarkupSafe>=0.23 in c:\\users\\z1936043\\anaconda3\\lib\\site-packages (from jinja2->spacy<3.2.0,>=3.1.0->en-core-web-sm==3.1.0) (1.1.1)\n",
            "[+] Download and installation successful\n",
            "You can now load the package via spacy.load('en_core_web_sm')\n"
          ]
        }
      ]
    },
    {
      "cell_type": "code",
      "metadata": {
        "id": "2CZLLjiZheK8"
      },
      "source": [
        ""
      ],
      "execution_count": null,
      "outputs": []
    },
    {
      "cell_type": "markdown",
      "metadata": {
        "id": "Yp2idXvDhhDJ"
      },
      "source": [
        "# Task 2: Data Loading and Exploration"
      ]
    },
    {
      "cell_type": "code",
      "metadata": {
        "id": "7B6gNSc4Y7R3",
        "outputId": "d0ae2250-e9a5-416f-ace8-bb2429cb4c99"
      },
      "source": [
        "# read the Dimensions publication data on scholarly articles into a dataframe\n",
        "\n",
        "import pandas as pd\n",
        "import csv\n",
        "\n",
        "data = pd.read_csv('Dimensions Publication.csv') "
      ],
      "execution_count": null,
      "outputs": [
        {
          "name": "stderr",
          "output_type": "stream",
          "text": [
            "C:\\Users\\Z1936043\\Anaconda3\\lib\\site-packages\\IPython\\core\\interactiveshell.py:3165: DtypeWarning: Columns (8) have mixed types.Specify dtype option on import or set low_memory=False.\n",
            "  has_raised = await self.run_ast_nodes(code_ast.body, cell_name,\n"
          ]
        }
      ]
    },
    {
      "cell_type": "code",
      "metadata": {
        "id": "tHabqjRlY7R7",
        "outputId": "d11e5ab4-b955-47d8-dd15-228daa4e13d5"
      },
      "source": [
        "data.head(3)"
      ],
      "execution_count": null,
      "outputs": [
        {
          "data": {
            "text/html": [
              "<div>\n",
              "<style scoped>\n",
              "    .dataframe tbody tr th:only-of-type {\n",
              "        vertical-align: middle;\n",
              "    }\n",
              "\n",
              "    .dataframe tbody tr th {\n",
              "        vertical-align: top;\n",
              "    }\n",
              "\n",
              "    .dataframe thead th {\n",
              "        text-align: right;\n",
              "    }\n",
              "</style>\n",
              "<table border=\"1\" class=\"dataframe\">\n",
              "  <thead>\n",
              "    <tr style=\"text-align: right;\">\n",
              "      <th></th>\n",
              "      <th>PMCID</th>\n",
              "      <th>Title</th>\n",
              "      <th>Source title</th>\n",
              "      <th>Anthology title</th>\n",
              "      <th>Publisher</th>\n",
              "      <th>MeSH terms</th>\n",
              "      <th>Publication Date</th>\n",
              "      <th>PubYear</th>\n",
              "      <th>Volume</th>\n",
              "      <th>Issue</th>\n",
              "      <th>...</th>\n",
              "      <th>FOR 5</th>\n",
              "      <th>RCDC Categories</th>\n",
              "      <th>RCDC 1</th>\n",
              "      <th>ICRP CSO 5</th>\n",
              "      <th>Units of Assessment</th>\n",
              "      <th>Units of Assessment 1</th>\n",
              "      <th>Units of Assessment 2</th>\n",
              "      <th>Units of Assessment 3</th>\n",
              "      <th>Units of Assessment 4</th>\n",
              "      <th>Units of Assessment 5</th>\n",
              "    </tr>\n",
              "  </thead>\n",
              "  <tbody>\n",
              "    <tr>\n",
              "      <th>0</th>\n",
              "      <td>NaN</td>\n",
              "      <td>Real-Time Identifiability of Power Distributio...</td>\n",
              "      <td>IEEE Control Systems Letters</td>\n",
              "      <td>NaN</td>\n",
              "      <td>Institute of Electrical and Electronics Engine...</td>\n",
              "      <td>NaN</td>\n",
              "      <td>2020-04</td>\n",
              "      <td>2020</td>\n",
              "      <td>4</td>\n",
              "      <td>2</td>\n",
              "      <td>...</td>\n",
              "      <td>NaN</td>\n",
              "      <td>NaN</td>\n",
              "      <td>NaN</td>\n",
              "      <td>NaN</td>\n",
              "      <td>B12 Engineering</td>\n",
              "      <td>B12 Engineering</td>\n",
              "      <td>NaN</td>\n",
              "      <td>NaN</td>\n",
              "      <td>NaN</td>\n",
              "      <td>NaN</td>\n",
              "    </tr>\n",
              "    <tr>\n",
              "      <th>1</th>\n",
              "      <td>NaN</td>\n",
              "      <td>Adaptive Optimal Decision in Multi-Agent Rando...</td>\n",
              "      <td>IEEE Control Systems Letters</td>\n",
              "      <td>NaN</td>\n",
              "      <td>Institute of Electrical and Electronics Engine...</td>\n",
              "      <td>NaN</td>\n",
              "      <td>2020-04</td>\n",
              "      <td>2020</td>\n",
              "      <td>4</td>\n",
              "      <td>2</td>\n",
              "      <td>...</td>\n",
              "      <td>NaN</td>\n",
              "      <td>NaN</td>\n",
              "      <td>NaN</td>\n",
              "      <td>NaN</td>\n",
              "      <td>B12 Engineering; B11 Computer Science and Info...</td>\n",
              "      <td>B12 Engineering</td>\n",
              "      <td>B11 Computer Science and Informatics</td>\n",
              "      <td>NaN</td>\n",
              "      <td>NaN</td>\n",
              "      <td>NaN</td>\n",
              "    </tr>\n",
              "    <tr>\n",
              "      <th>2</th>\n",
              "      <td>NaN</td>\n",
              "      <td>Tooth morphometry using quasi-conformal theory</td>\n",
              "      <td>Pattern Recognition</td>\n",
              "      <td>NaN</td>\n",
              "      <td>Elsevier</td>\n",
              "      <td>NaN</td>\n",
              "      <td>2020-03</td>\n",
              "      <td>2020</td>\n",
              "      <td>99</td>\n",
              "      <td>NaN</td>\n",
              "      <td>...</td>\n",
              "      <td>0801 Artificial Intelligence and Image Processing</td>\n",
              "      <td>NaN</td>\n",
              "      <td>NaN</td>\n",
              "      <td>NaN</td>\n",
              "      <td>B11 Computer Science and Informatics</td>\n",
              "      <td>B11 Computer Science and Informatics</td>\n",
              "      <td>NaN</td>\n",
              "      <td>NaN</td>\n",
              "      <td>NaN</td>\n",
              "      <td>NaN</td>\n",
              "    </tr>\n",
              "  </tbody>\n",
              "</table>\n",
              "<p>3 rows × 43 columns</p>\n",
              "</div>"
            ],
            "text/plain": [
              "  PMCID                                              Title  \\\n",
              "0   NaN  Real-Time Identifiability of Power Distributio...   \n",
              "1   NaN  Adaptive Optimal Decision in Multi-Agent Rando...   \n",
              "2   NaN     Tooth morphometry using quasi-conformal theory   \n",
              "\n",
              "                   Source title Anthology title  \\\n",
              "0  IEEE Control Systems Letters             NaN   \n",
              "1  IEEE Control Systems Letters             NaN   \n",
              "2           Pattern Recognition             NaN   \n",
              "\n",
              "                                           Publisher MeSH terms  \\\n",
              "0  Institute of Electrical and Electronics Engine...        NaN   \n",
              "1  Institute of Electrical and Electronics Engine...        NaN   \n",
              "2                                           Elsevier        NaN   \n",
              "\n",
              "  Publication Date  PubYear Volume Issue  ...  \\\n",
              "0          2020-04     2020      4     2  ...   \n",
              "1          2020-04     2020      4     2  ...   \n",
              "2          2020-03     2020     99   NaN  ...   \n",
              "\n",
              "                                               FOR 5 RCDC Categories RCDC 1  \\\n",
              "0                                                NaN             NaN    NaN   \n",
              "1                                                NaN             NaN    NaN   \n",
              "2  0801 Artificial Intelligence and Image Processing             NaN    NaN   \n",
              "\n",
              "  ICRP CSO 5                                Units of Assessment  \\\n",
              "0        NaN                                    B12 Engineering   \n",
              "1        NaN  B12 Engineering; B11 Computer Science and Info...   \n",
              "2        NaN               B11 Computer Science and Informatics   \n",
              "\n",
              "                  Units of Assessment 1                 Units of Assessment 2  \\\n",
              "0                       B12 Engineering                                   NaN   \n",
              "1                       B12 Engineering  B11 Computer Science and Informatics   \n",
              "2  B11 Computer Science and Informatics                                   NaN   \n",
              "\n",
              "  Units of Assessment 3 Units of Assessment 4 Units of Assessment 5  \n",
              "0                   NaN                   NaN                   NaN  \n",
              "1                   NaN                   NaN                   NaN  \n",
              "2                   NaN                   NaN                   NaN  \n",
              "\n",
              "[3 rows x 43 columns]"
            ]
          },
          "execution_count": 6,
          "metadata": {},
          "output_type": "execute_result"
        }
      ]
    },
    {
      "cell_type": "code",
      "metadata": {
        "id": "m_hzGPovY7R-",
        "outputId": "dd3e5f4d-5304-4707-a22e-70d391e74d74"
      },
      "source": [
        "data.info()"
      ],
      "execution_count": null,
      "outputs": [
        {
          "name": "stdout",
          "output_type": "stream",
          "text": [
            "<class 'pandas.core.frame.DataFrame'>\n",
            "RangeIndex: 50000 entries, 0 to 49999\n",
            "Data columns (total 43 columns):\n",
            " #   Column                                 Non-Null Count  Dtype  \n",
            "---  ------                                 --------------  -----  \n",
            " 0   PMCID                                  3077 non-null   object \n",
            " 1   Title                                  50000 non-null  object \n",
            " 2   Source title                           25196 non-null  object \n",
            " 3   Anthology title                        27862 non-null  object \n",
            " 4   Publisher                              49946 non-null  object \n",
            " 5   MeSH terms                             3047 non-null   object \n",
            " 6   Publication Date                       50000 non-null  object \n",
            " 7   PubYear                                50000 non-null  int64  \n",
            " 8   Volume                                 27629 non-null  object \n",
            " 9   Issue                                  19219 non-null  object \n",
            " 10  Open Access                            50000 non-null  object \n",
            " 11  Publication Type                       50000 non-null  object \n",
            " 12  Authors                                49994 non-null  object \n",
            " 13  Corresponding Author                   9943 non-null   object \n",
            " 14  Authors Affiliations                   49994 non-null  object \n",
            " 15  Research Organizations - standardized  46426 non-null  object \n",
            " 16  GRID IDs                               46426 non-null  object \n",
            " 17  City of Research organization          46426 non-null  object \n",
            " 18  State of Research organization         45991 non-null  object \n",
            " 19  Country of Research organization       46426 non-null  object \n",
            " 20  Funder                                 50000 non-null  object \n",
            " 21  Funder Group                           50000 non-null  object \n",
            " 22  Funder Country                         50000 non-null  object \n",
            " 23  UIDs of supporting grants              49945 non-null  object \n",
            " 24  Supporting Grants                      49945 non-null  object \n",
            " 25  Times cited                            50000 non-null  int64  \n",
            " 26  Recent citations                       50000 non-null  int64  \n",
            " 27  Altmetric                              9119 non-null   float64\n",
            " 28  FOR (ANZSRC) Categories                50000 non-null  object \n",
            " 29  FOR 1                                  50000 non-null  object \n",
            " 30  FOR 2                                  49846 non-null  object \n",
            " 31  FOR 3                                  14801 non-null  object \n",
            " 32  FOR 4                                  9006 non-null   object \n",
            " 33  FOR 5                                  4150 non-null   object \n",
            " 34  RCDC Categories                        11902 non-null  object \n",
            " 35  RCDC 1                                 11902 non-null  object \n",
            " 36  ICRP CSO 5                             0 non-null      float64\n",
            " 37  Units of Assessment                    49154 non-null  object \n",
            " 38  Units of Assessment 1                  49154 non-null  object \n",
            " 39  Units of Assessment 2                  1986 non-null   object \n",
            " 40  Units of Assessment 3                  0 non-null      float64\n",
            " 41  Units of Assessment 4                  0 non-null      float64\n",
            " 42  Units of Assessment 5                  0 non-null      float64\n",
            "dtypes: float64(5), int64(3), object(35)\n",
            "memory usage: 16.4+ MB\n"
          ]
        }
      ]
    },
    {
      "cell_type": "code",
      "metadata": {
        "id": "chUxkzuAY7SE",
        "outputId": "19043e2b-3d61-45f8-cab9-87716b6d9678"
      },
      "source": [
        "data.describe()"
      ],
      "execution_count": null,
      "outputs": [
        {
          "data": {
            "text/html": [
              "<div>\n",
              "<style scoped>\n",
              "    .dataframe tbody tr th:only-of-type {\n",
              "        vertical-align: middle;\n",
              "    }\n",
              "\n",
              "    .dataframe tbody tr th {\n",
              "        vertical-align: top;\n",
              "    }\n",
              "\n",
              "    .dataframe thead th {\n",
              "        text-align: right;\n",
              "    }\n",
              "</style>\n",
              "<table border=\"1\" class=\"dataframe\">\n",
              "  <thead>\n",
              "    <tr style=\"text-align: right;\">\n",
              "      <th></th>\n",
              "      <th>PubYear</th>\n",
              "      <th>Times cited</th>\n",
              "      <th>Recent citations</th>\n",
              "      <th>Altmetric</th>\n",
              "      <th>ICRP CSO 5</th>\n",
              "      <th>Units of Assessment 3</th>\n",
              "      <th>Units of Assessment 4</th>\n",
              "      <th>Units of Assessment 5</th>\n",
              "    </tr>\n",
              "  </thead>\n",
              "  <tbody>\n",
              "    <tr>\n",
              "      <th>count</th>\n",
              "      <td>50000.000000</td>\n",
              "      <td>50000.000000</td>\n",
              "      <td>50000.000000</td>\n",
              "      <td>9119.000000</td>\n",
              "      <td>0.0</td>\n",
              "      <td>0.0</td>\n",
              "      <td>0.0</td>\n",
              "      <td>0.0</td>\n",
              "    </tr>\n",
              "    <tr>\n",
              "      <th>mean</th>\n",
              "      <td>2015.619460</td>\n",
              "      <td>11.937080</td>\n",
              "      <td>5.780920</td>\n",
              "      <td>13.897248</td>\n",
              "      <td>NaN</td>\n",
              "      <td>NaN</td>\n",
              "      <td>NaN</td>\n",
              "      <td>NaN</td>\n",
              "    </tr>\n",
              "    <tr>\n",
              "      <th>std</th>\n",
              "      <td>2.287259</td>\n",
              "      <td>52.854253</td>\n",
              "      <td>33.068327</td>\n",
              "      <td>71.630529</td>\n",
              "      <td>NaN</td>\n",
              "      <td>NaN</td>\n",
              "      <td>NaN</td>\n",
              "      <td>NaN</td>\n",
              "    </tr>\n",
              "    <tr>\n",
              "      <th>min</th>\n",
              "      <td>2011.000000</td>\n",
              "      <td>0.000000</td>\n",
              "      <td>0.000000</td>\n",
              "      <td>1.000000</td>\n",
              "      <td>NaN</td>\n",
              "      <td>NaN</td>\n",
              "      <td>NaN</td>\n",
              "      <td>NaN</td>\n",
              "    </tr>\n",
              "    <tr>\n",
              "      <th>25%</th>\n",
              "      <td>2014.000000</td>\n",
              "      <td>1.000000</td>\n",
              "      <td>0.000000</td>\n",
              "      <td>1.000000</td>\n",
              "      <td>NaN</td>\n",
              "      <td>NaN</td>\n",
              "      <td>NaN</td>\n",
              "      <td>NaN</td>\n",
              "    </tr>\n",
              "    <tr>\n",
              "      <th>50%</th>\n",
              "      <td>2016.000000</td>\n",
              "      <td>4.000000</td>\n",
              "      <td>2.000000</td>\n",
              "      <td>3.000000</td>\n",
              "      <td>NaN</td>\n",
              "      <td>NaN</td>\n",
              "      <td>NaN</td>\n",
              "      <td>NaN</td>\n",
              "    </tr>\n",
              "    <tr>\n",
              "      <th>75%</th>\n",
              "      <td>2018.000000</td>\n",
              "      <td>10.000000</td>\n",
              "      <td>5.000000</td>\n",
              "      <td>6.000000</td>\n",
              "      <td>NaN</td>\n",
              "      <td>NaN</td>\n",
              "      <td>NaN</td>\n",
              "      <td>NaN</td>\n",
              "    </tr>\n",
              "    <tr>\n",
              "      <th>max</th>\n",
              "      <td>2020.000000</td>\n",
              "      <td>5454.000000</td>\n",
              "      <td>3630.000000</td>\n",
              "      <td>3303.000000</td>\n",
              "      <td>NaN</td>\n",
              "      <td>NaN</td>\n",
              "      <td>NaN</td>\n",
              "      <td>NaN</td>\n",
              "    </tr>\n",
              "  </tbody>\n",
              "</table>\n",
              "</div>"
            ],
            "text/plain": [
              "            PubYear   Times cited  Recent citations    Altmetric  ICRP CSO 5  \\\n",
              "count  50000.000000  50000.000000      50000.000000  9119.000000         0.0   \n",
              "mean    2015.619460     11.937080          5.780920    13.897248         NaN   \n",
              "std        2.287259     52.854253         33.068327    71.630529         NaN   \n",
              "min     2011.000000      0.000000          0.000000     1.000000         NaN   \n",
              "25%     2014.000000      1.000000          0.000000     1.000000         NaN   \n",
              "50%     2016.000000      4.000000          2.000000     3.000000         NaN   \n",
              "75%     2018.000000     10.000000          5.000000     6.000000         NaN   \n",
              "max     2020.000000   5454.000000       3630.000000  3303.000000         NaN   \n",
              "\n",
              "       Units of Assessment 3  Units of Assessment 4  Units of Assessment 5  \n",
              "count                    0.0                    0.0                    0.0  \n",
              "mean                     NaN                    NaN                    NaN  \n",
              "std                      NaN                    NaN                    NaN  \n",
              "min                      NaN                    NaN                    NaN  \n",
              "25%                      NaN                    NaN                    NaN  \n",
              "50%                      NaN                    NaN                    NaN  \n",
              "75%                      NaN                    NaN                    NaN  \n",
              "max                      NaN                    NaN                    NaN  "
            ]
          },
          "execution_count": 8,
          "metadata": {},
          "output_type": "execute_result"
        }
      ]
    },
    {
      "cell_type": "code",
      "metadata": {
        "id": "A1QP2pn0Y7SG",
        "outputId": "bfa2fad2-fc10-4e24-ba47-514dd3877743"
      },
      "source": [
        "data.Title.describe()"
      ],
      "execution_count": null,
      "outputs": [
        {
          "data": {
            "text/plain": [
              "count                      50000\n",
              "unique                     49644\n",
              "top       Editorial introduction\n",
              "freq                           5\n",
              "Name: Title, dtype: object"
            ]
          },
          "execution_count": 9,
          "metadata": {},
          "output_type": "execute_result"
        }
      ]
    },
    {
      "cell_type": "code",
      "metadata": {
        "id": "B-PX_JqIiAoI"
      },
      "source": [
        ""
      ],
      "execution_count": null,
      "outputs": []
    },
    {
      "cell_type": "markdown",
      "metadata": {
        "id": "JCf1XexBiBFp"
      },
      "source": [
        "# Task 3: Data Preprocessing\n"
      ]
    },
    {
      "cell_type": "code",
      "metadata": {
        "id": "oySd2GIsY7SH"
      },
      "source": [
        "import re\n",
        "\n",
        "unique_titles=data.Title.unique()   # series of unique values\n",
        "new_list=unique_titles.tolist()                  # convert to list of titles\n",
        "pb_data=pd.DataFrame({'title': unique_titles}) # create new dataframe 'pb_data' with only column 'Title' having unique posts\n",
        "\n",
        "for i in range(pb_data['title'].count()):\n",
        "    pb_data.at[i,'title'] = re.sub(r'[^a-zA-Z ]',r'',pb_data['title'][i]) # Keep only alphabetic texts by using regular expression "
      ],
      "execution_count": null,
      "outputs": []
    },
    {
      "cell_type": "code",
      "metadata": {
        "id": "RNxN_ZofY7SP"
      },
      "source": [
        "pb_data['title_length']=pb_data.title.str.len() # create new column with corresponding length value of the 'title'"
      ],
      "execution_count": null,
      "outputs": []
    },
    {
      "cell_type": "code",
      "metadata": {
        "id": "odZ8hyFdY7SQ",
        "outputId": "e2a857e1-aed0-46e7-c3c4-04787bbfca02"
      },
      "source": [
        "pb_data.describe()"
      ],
      "execution_count": null,
      "outputs": [
        {
          "data": {
            "text/html": [
              "<div>\n",
              "<style scoped>\n",
              "    .dataframe tbody tr th:only-of-type {\n",
              "        vertical-align: middle;\n",
              "    }\n",
              "\n",
              "    .dataframe tbody tr th {\n",
              "        vertical-align: top;\n",
              "    }\n",
              "\n",
              "    .dataframe thead th {\n",
              "        text-align: right;\n",
              "    }\n",
              "</style>\n",
              "<table border=\"1\" class=\"dataframe\">\n",
              "  <thead>\n",
              "    <tr style=\"text-align: right;\">\n",
              "      <th></th>\n",
              "      <th>title_length</th>\n",
              "    </tr>\n",
              "  </thead>\n",
              "  <tbody>\n",
              "    <tr>\n",
              "      <th>count</th>\n",
              "      <td>49644.000000</td>\n",
              "    </tr>\n",
              "    <tr>\n",
              "      <th>mean</th>\n",
              "      <td>74.948594</td>\n",
              "    </tr>\n",
              "    <tr>\n",
              "      <th>std</th>\n",
              "      <td>28.070897</td>\n",
              "    </tr>\n",
              "    <tr>\n",
              "      <th>min</th>\n",
              "      <td>4.000000</td>\n",
              "    </tr>\n",
              "    <tr>\n",
              "      <th>25%</th>\n",
              "      <td>58.000000</td>\n",
              "    </tr>\n",
              "    <tr>\n",
              "      <th>50%</th>\n",
              "      <td>73.000000</td>\n",
              "    </tr>\n",
              "    <tr>\n",
              "      <th>75%</th>\n",
              "      <td>88.000000</td>\n",
              "    </tr>\n",
              "    <tr>\n",
              "      <th>max</th>\n",
              "      <td>913.000000</td>\n",
              "    </tr>\n",
              "  </tbody>\n",
              "</table>\n",
              "</div>"
            ],
            "text/plain": [
              "       title_length\n",
              "count  49644.000000\n",
              "mean      74.948594\n",
              "std       28.070897\n",
              "min        4.000000\n",
              "25%       58.000000\n",
              "50%       73.000000\n",
              "75%       88.000000\n",
              "max      913.000000"
            ]
          },
          "execution_count": 12,
          "metadata": {},
          "output_type": "execute_result"
        }
      ]
    },
    {
      "cell_type": "code",
      "metadata": {
        "id": "70tUlHUIY7SS"
      },
      "source": [
        "# Ignore the warnings related to packages that may arise for version difference of python \n",
        "\n",
        "import warnings\n",
        "warnings.filterwarnings(\"ignore\", category=DeprecationWarning)\n",
        "warnings.filterwarnings(\"ignore\", category=FutureWarning)"
      ],
      "execution_count": null,
      "outputs": []
    },
    {
      "cell_type": "code",
      "metadata": {
        "id": "5-dCgWzSY7SU",
        "outputId": "274af7b4-3cd8-4d42-fcd8-6924e1f2719d"
      },
      "source": [
        "#visual representation of the density distribution of titles by lengths\n",
        "import seaborn as sns\n",
        "\n",
        "sns.set_style(style=\"darkgrid\")\n",
        "sns.boxplot(pb_data['title_length'])\n",
        "\n",
        "sns.displot(pb_data['title_length'], kind=\"kde\", bw_adjust=.25)"
      ],
      "execution_count": null,
      "outputs": [
        {
          "data": {
            "text/plain": [
              "<seaborn.axisgrid.FacetGrid at 0x25a056c0c70>"
            ]
          },
          "execution_count": 14,
          "metadata": {},
          "output_type": "execute_result"
        },
        {
          "data": {
            "image/png": "[encoded data removed]",
            "text/plain": [
              "<Figure size 432x288 with 1 Axes>"
            ]
          },
          "metadata": {},
          "output_type": "display_data"
        },
        {
          "data": {
            "image/png": "[encoded data removed]",
            "text/plain": [
              "<Figure size 360x360 with 1 Axes>"
            ]
          },
          "metadata": {},
          "output_type": "display_data"
        }
      ]
    },
    {
      "cell_type": "code",
      "metadata": {
        "id": "fJawciRdY7SY",
        "outputId": "e863adeb-95aa-4826-c480-d73876776ce6"
      },
      "source": [
        "pb_data[(pb_data[\"title_length\"]<20)]"
      ],
      "execution_count": null,
      "outputs": [
        {
          "data": {
            "text/html": [
              "<div>\n",
              "<style scoped>\n",
              "    .dataframe tbody tr th:only-of-type {\n",
              "        vertical-align: middle;\n",
              "    }\n",
              "\n",
              "    .dataframe tbody tr th {\n",
              "        vertical-align: top;\n",
              "    }\n",
              "\n",
              "    .dataframe thead th {\n",
              "        text-align: right;\n",
              "    }\n",
              "</style>\n",
              "<table border=\"1\" class=\"dataframe\">\n",
              "  <thead>\n",
              "    <tr style=\"text-align: right;\">\n",
              "      <th></th>\n",
              "      <th>title</th>\n",
              "      <th>title_length</th>\n",
              "    </tr>\n",
              "  </thead>\n",
              "  <tbody>\n",
              "    <tr>\n",
              "      <th>117</th>\n",
              "      <td>The Book of Why</td>\n",
              "      <td>15</td>\n",
              "    </tr>\n",
              "    <tr>\n",
              "      <th>439</th>\n",
              "      <td>Foreword</td>\n",
              "      <td>8</td>\n",
              "    </tr>\n",
              "    <tr>\n",
              "      <th>1493</th>\n",
              "      <td>Kernel Treelets</td>\n",
              "      <td>15</td>\n",
              "    </tr>\n",
              "    <tr>\n",
              "      <th>1684</th>\n",
              "      <td>Smart Manufacturing</td>\n",
              "      <td>19</td>\n",
              "    </tr>\n",
              "    <tr>\n",
              "      <th>1921</th>\n",
              "      <td>Perfect Anonymity</td>\n",
              "      <td>17</td>\n",
              "    </tr>\n",
              "    <tr>\n",
              "      <th>...</th>\n",
              "      <td>...</td>\n",
              "      <td>...</td>\n",
              "    </tr>\n",
              "    <tr>\n",
              "      <th>48324</th>\n",
              "      <td>Smart and Modular</td>\n",
              "      <td>17</td>\n",
              "    </tr>\n",
              "    <tr>\n",
              "      <th>48839</th>\n",
              "      <td>MMSE Dimension</td>\n",
              "      <td>14</td>\n",
              "    </tr>\n",
              "    <tr>\n",
              "      <th>49312</th>\n",
              "      <td>Sampling Bedrooms</td>\n",
              "      <td>17</td>\n",
              "    </tr>\n",
              "    <tr>\n",
              "      <th>49437</th>\n",
              "      <td>Nonlocal Matting</td>\n",
              "      <td>16</td>\n",
              "    </tr>\n",
              "    <tr>\n",
              "      <th>49447</th>\n",
              "      <td>Branch and Track</td>\n",
              "      <td>16</td>\n",
              "    </tr>\n",
              "  </tbody>\n",
              "</table>\n",
              "<p>158 rows × 2 columns</p>\n",
              "</div>"
            ],
            "text/plain": [
              "                     title  title_length\n",
              "117        The Book of Why            15\n",
              "439               Foreword             8\n",
              "1493       Kernel Treelets            15\n",
              "1684   Smart Manufacturing            19\n",
              "1921     Perfect Anonymity            17\n",
              "...                    ...           ...\n",
              "48324    Smart and Modular            17\n",
              "48839       MMSE Dimension            14\n",
              "49312    Sampling Bedrooms            17\n",
              "49437     Nonlocal Matting            16\n",
              "49447     Branch and Track            16\n",
              "\n",
              "[158 rows x 2 columns]"
            ]
          },
          "execution_count": 20,
          "metadata": {},
          "output_type": "execute_result"
        }
      ]
    },
    {
      "cell_type": "code",
      "metadata": {
        "id": "0CXX6be3Y7SY",
        "outputId": "8eab7de2-d817-4b4c-9b82-def4c2bb886e"
      },
      "source": [
        "pb_data[(pb_data[\"title_length\"]>130)]"
      ],
      "execution_count": null,
      "outputs": [
        {
          "data": {
            "text/html": [
              "<div>\n",
              "<style scoped>\n",
              "    .dataframe tbody tr th:only-of-type {\n",
              "        vertical-align: middle;\n",
              "    }\n",
              "\n",
              "    .dataframe tbody tr th {\n",
              "        vertical-align: top;\n",
              "    }\n",
              "\n",
              "    .dataframe thead th {\n",
              "        text-align: right;\n",
              "    }\n",
              "</style>\n",
              "<table border=\"1\" class=\"dataframe\">\n",
              "  <thead>\n",
              "    <tr style=\"text-align: right;\">\n",
              "      <th></th>\n",
              "      <th>title</th>\n",
              "      <th>title_length</th>\n",
              "    </tr>\n",
              "  </thead>\n",
              "  <tbody>\n",
              "    <tr>\n",
              "      <th>50</th>\n",
              "      <td>Learning Sparse Neural Networks via and T by a...</td>\n",
              "      <td>132</td>\n",
              "    </tr>\n",
              "    <tr>\n",
              "      <th>74</th>\n",
              "      <td>An elasticnet logistic regression approach to ...</td>\n",
              "      <td>138</td>\n",
              "    </tr>\n",
              "    <tr>\n",
              "      <th>85</th>\n",
              "      <td>What do we know about volumetric medical image...</td>\n",
              "      <td>132</td>\n",
              "    </tr>\n",
              "    <tr>\n",
              "      <th>87</th>\n",
              "      <td>Automated subset identification and characteri...</td>\n",
              "      <td>140</td>\n",
              "    </tr>\n",
              "    <tr>\n",
              "      <th>94</th>\n",
              "      <td>The open diffusion data derivatives brain data...</td>\n",
              "      <td>134</td>\n",
              "    </tr>\n",
              "    <tr>\n",
              "      <th>...</th>\n",
              "      <td>...</td>\n",
              "      <td>...</td>\n",
              "    </tr>\n",
              "    <tr>\n",
              "      <th>49066</th>\n",
              "      <td>Color Demosaicing with Contour StencilsThis ma...</td>\n",
              "      <td>135</td>\n",
              "    </tr>\n",
              "    <tr>\n",
              "      <th>49241</th>\n",
              "      <td>Dirichlet Process Mixture Models on Symmetric ...</td>\n",
              "      <td>133</td>\n",
              "    </tr>\n",
              "    <tr>\n",
              "      <th>49424</th>\n",
              "      <td>Approximation and Inapproximation for The Infl...</td>\n",
              "      <td>134</td>\n",
              "    </tr>\n",
              "    <tr>\n",
              "      <th>49570</th>\n",
              "      <td>Methods for optimizing the performance of dire...</td>\n",
              "      <td>134</td>\n",
              "    </tr>\n",
              "    <tr>\n",
              "      <th>49591</th>\n",
              "      <td>Recurrent Neural Network for NonSmooth Convex ...</td>\n",
              "      <td>137</td>\n",
              "    </tr>\n",
              "  </tbody>\n",
              "</table>\n",
              "<p>439 rows × 2 columns</p>\n",
              "</div>"
            ],
            "text/plain": [
              "                                                   title  title_length\n",
              "50     Learning Sparse Neural Networks via and T by a...           132\n",
              "74     An elasticnet logistic regression approach to ...           138\n",
              "85     What do we know about volumetric medical image...           132\n",
              "87     Automated subset identification and characteri...           140\n",
              "94     The open diffusion data derivatives brain data...           134\n",
              "...                                                  ...           ...\n",
              "49066  Color Demosaicing with Contour StencilsThis ma...           135\n",
              "49241  Dirichlet Process Mixture Models on Symmetric ...           133\n",
              "49424  Approximation and Inapproximation for The Infl...           134\n",
              "49570  Methods for optimizing the performance of dire...           134\n",
              "49591  Recurrent Neural Network for NonSmooth Convex ...           137\n",
              "\n",
              "[439 rows x 2 columns]"
            ]
          },
          "execution_count": 26,
          "metadata": {},
          "output_type": "execute_result"
        }
      ]
    },
    {
      "cell_type": "code",
      "metadata": {
        "id": "0zmw3Q0VY7SZ",
        "outputId": "032cfcc6-0f52-47aa-9f8b-3bf84588ee51"
      },
      "source": [
        "pb_data=pb_data.drop_duplicates()    # remove duplicate entries\n",
        "data1=pb_data[(pb_data[\"title_length\"]<50) | (pb_data[\"title_length\"]>120) ]  #filter data\n",
        "pb_data=pb_data.drop(data1.index)    # remove titles having 120<length<15\n",
        "pb_data.head()"
      ],
      "execution_count": null,
      "outputs": [
        {
          "data": {
            "text/html": [
              "<div>\n",
              "<style scoped>\n",
              "    .dataframe tbody tr th:only-of-type {\n",
              "        vertical-align: middle;\n",
              "    }\n",
              "\n",
              "    .dataframe tbody tr th {\n",
              "        vertical-align: top;\n",
              "    }\n",
              "\n",
              "    .dataframe thead th {\n",
              "        text-align: right;\n",
              "    }\n",
              "</style>\n",
              "<table border=\"1\" class=\"dataframe\">\n",
              "  <thead>\n",
              "    <tr style=\"text-align: right;\">\n",
              "      <th></th>\n",
              "      <th>title</th>\n",
              "      <th>title_length</th>\n",
              "    </tr>\n",
              "  </thead>\n",
              "  <tbody>\n",
              "    <tr>\n",
              "      <th>0</th>\n",
              "      <td>RealTime Identifiability of Power Distribution...</td>\n",
              "      <td>89</td>\n",
              "    </tr>\n",
              "    <tr>\n",
              "      <th>1</th>\n",
              "      <td>Adaptive Optimal Decision in MultiAgent Random...</td>\n",
              "      <td>64</td>\n",
              "    </tr>\n",
              "    <tr>\n",
              "      <th>3</th>\n",
              "      <td>Design and Modeling of a Continuously Tunable ...</td>\n",
              "      <td>100</td>\n",
              "    </tr>\n",
              "    <tr>\n",
              "      <th>4</th>\n",
              "      <td>Discrete Layer Jamming for Variable Stiffness ...</td>\n",
              "      <td>58</td>\n",
              "    </tr>\n",
              "    <tr>\n",
              "      <th>5</th>\n",
              "      <td>Discretetime linearquadratic meanfieldtype rep...</td>\n",
              "      <td>102</td>\n",
              "    </tr>\n",
              "  </tbody>\n",
              "</table>\n",
              "</div>"
            ],
            "text/plain": [
              "                                               title  title_length\n",
              "0  RealTime Identifiability of Power Distribution...            89\n",
              "1  Adaptive Optimal Decision in MultiAgent Random...            64\n",
              "3  Design and Modeling of a Continuously Tunable ...           100\n",
              "4  Discrete Layer Jamming for Variable Stiffness ...            58\n",
              "5  Discretetime linearquadratic meanfieldtype rep...           102"
            ]
          },
          "execution_count": 73,
          "metadata": {},
          "output_type": "execute_result"
        }
      ]
    },
    {
      "cell_type": "code",
      "metadata": {
        "id": "i0WDLe7GY7SZ",
        "outputId": "33a034b9-a9ab-4996-ec42-3d71b0189e15"
      },
      "source": [
        "sns.set_style(style=\"darkgrid\")\n",
        "sns.boxplot(pb_data['title_length'])\n",
        "\n",
        "sns.displot(pb_data['title_length'], kind=\"kde\", bw_adjust=.25)"
      ],
      "execution_count": null,
      "outputs": [
        {
          "data": {
            "text/plain": [
              "<seaborn.axisgrid.FacetGrid at 0x25a162be490>"
            ]
          },
          "execution_count": 74,
          "metadata": {},
          "output_type": "execute_result"
        },
        {
          "data": {
            "image/png": "[encoded data removed]",
            "text/plain": [
              "<Figure size 432x288 with 1 Axes>"
            ]
          },
          "metadata": {},
          "output_type": "display_data"
        },
        {
          "data": {
            "image/png": "[encoded data removed]",
            "text/plain": [
              "<Figure size 360x360 with 1 Axes>"
            ]
          },
          "metadata": {},
          "output_type": "display_data"
        }
      ]
    },
    {
      "cell_type": "code",
      "metadata": {
        "id": "mGKZonAMY7Sa"
      },
      "source": [
        "import gensim, spacy\n",
        "\n",
        "from gensim import corpora, models\n",
        "from gensim.utils import simple_preprocess\n",
        "\n",
        "from gensim.models import Phrases\n",
        "from gensim.models.phrases import Phraser"
      ],
      "execution_count": null,
      "outputs": []
    },
    {
      "cell_type": "code",
      "metadata": {
        "id": "oeecaqH8Y7Sa"
      },
      "source": [
        "#Since after text preprocessing the original titles will be modified and it doesn't make sense to recommend titles by\n",
        "#displaying modified titles so we copied the dataset into some other dataset and performed text preprocessing on the later.\n",
        "pb_data_temp = pb_data.copy()"
      ],
      "execution_count": null,
      "outputs": []
    },
    {
      "cell_type": "code",
      "metadata": {
        "id": "iAbWsUeSY7Sa"
      },
      "source": [
        "#tokenization of each title\n",
        "def sent_to_words(sentences):\n",
        "    for sentence in sentences:\n",
        "        yield(gensim.utils.simple_preprocess(str(sentence), deacc=True))"
      ],
      "execution_count": null,
      "outputs": []
    },
    {
      "cell_type": "code",
      "metadata": {
        "id": "_aCuBTaFY7Sa"
      },
      "source": [
        "# get tokenized titles \n",
        "tokens_title = list(sent_to_words(pb_data_temp[\"title\"]))"
      ],
      "execution_count": null,
      "outputs": []
    },
    {
      "cell_type": "code",
      "metadata": {
        "id": "W-ZeUb33Y7Sb"
      },
      "source": [
        "nlp = spacy.load('en_core_web_sm', disable=['parser', 'ner'])\n",
        "\n",
        "# method for removing stop words. we used gensim stop-words and added some own stop-words, based on title-texts \n",
        "def remove_stopwords(texts):\n",
        "    return [[word for word in simple_preprocess(str(doc)) if word not in gensim.parsing.preprocessing.STOPWORDS.union(set(['also', 'meanwhile','however', 'page', 'research', \n",
        "                                                                                                                           'paper', 'suggest', 'use', 'include', 'there',  'soooo']))] for doc in texts]\n",
        "# method for lemmatization (converting to basic word format from different forms)\n",
        "def lemmatization(texts, allowed_postags=['NOUN', 'VERB', 'ADV']):\n",
        "    texts_out = []\n",
        "    for sent in texts:\n",
        "        doc = nlp(\" \".join(sent)) \n",
        "        texts_out.append([token.lemma_ for token in doc if token.pos_ in allowed_postags])\n",
        "    return texts_out"
      ],
      "execution_count": null,
      "outputs": []
    },
    {
      "cell_type": "code",
      "metadata": {
        "id": "6tiKnInXY7Sb"
      },
      "source": [
        "# do lemmatization keeping only noun, verb, and adverb\n",
        "# because adjective is not informative for this task\n",
        "titles_lemmatized = lemmatization(tokens_title, allowed_postags=['NOUN', 'VERB', 'ADV'])"
      ],
      "execution_count": null,
      "outputs": []
    },
    {
      "cell_type": "code",
      "metadata": {
        "id": "Z6bPF-9YY7Sb"
      },
      "source": [
        "# remove stop words after lemmatization\n",
        "titles_lemmatized = remove_stopwords(titles_lemmatized)"
      ],
      "execution_count": null,
      "outputs": []
    },
    {
      "cell_type": "code",
      "metadata": {
        "id": "RfNTUUt0Y7Sb"
      },
      "source": [
        "title_data = pd.DataFrame(columns=['title'])\n",
        "for i in range(len(titles_lemmatized)):\n",
        "    title_data.at[i, 'title'] = ' '.join(titles_lemmatized[i])\n",
        "    \n"
      ],
      "execution_count": null,
      "outputs": []
    },
    {
      "cell_type": "code",
      "metadata": {
        "id": "Uy68M9UIY7Sb"
      },
      "source": [
        "title_data['length']=title_data.title.str.len() "
      ],
      "execution_count": null,
      "outputs": []
    },
    {
      "cell_type": "code",
      "metadata": {
        "id": "az9tMLvRY7Sc",
        "outputId": "2713993d-1311-4ae7-e717-b9698bb84f9d"
      },
      "source": [
        "title_data.head()"
      ],
      "execution_count": null,
      "outputs": [
        {
          "data": {
            "text/html": [
              "<div>\n",
              "<style scoped>\n",
              "    .dataframe tbody tr th:only-of-type {\n",
              "        vertical-align: middle;\n",
              "    }\n",
              "\n",
              "    .dataframe tbody tr th {\n",
              "        vertical-align: top;\n",
              "    }\n",
              "\n",
              "    .dataframe thead th {\n",
              "        text-align: right;\n",
              "    }\n",
              "</style>\n",
              "<table border=\"1\" class=\"dataframe\">\n",
              "  <thead>\n",
              "    <tr style=\"text-align: right;\">\n",
              "      <th></th>\n",
              "      <th>title</th>\n",
              "      <th>length</th>\n",
              "    </tr>\n",
              "  </thead>\n",
              "  <tbody>\n",
              "    <tr>\n",
              "      <th>0</th>\n",
              "      <td>identifiability power distribution network top...</td>\n",
              "      <td>62</td>\n",
              "    </tr>\n",
              "    <tr>\n",
              "      <th>1</th>\n",
              "      <td>decision multiagent switching</td>\n",
              "      <td>29</td>\n",
              "    </tr>\n",
              "    <tr>\n",
              "      <th>2</th>\n",
              "      <td>design modeling continuously stiffness arm hum...</td>\n",
              "      <td>65</td>\n",
              "    </tr>\n",
              "    <tr>\n",
              "      <th>3</th>\n",
              "      <td>layer jam stiffness corobot arm</td>\n",
              "      <td>31</td>\n",
              "    </tr>\n",
              "    <tr>\n",
              "      <th>4</th>\n",
              "      <td>meanfieldtype repeat game imperfect information</td>\n",
              "      <td>47</td>\n",
              "    </tr>\n",
              "  </tbody>\n",
              "</table>\n",
              "</div>"
            ],
            "text/plain": [
              "                                               title  length\n",
              "0  identifiability power distribution network top...      62\n",
              "1                      decision multiagent switching      29\n",
              "2  design modeling continuously stiffness arm hum...      65\n",
              "3                    layer jam stiffness corobot arm      31\n",
              "4    meanfieldtype repeat game imperfect information      47"
            ]
          },
          "execution_count": 89,
          "metadata": {},
          "output_type": "execute_result"
        }
      ]
    },
    {
      "cell_type": "code",
      "metadata": {
        "id": "sgEei3jDY7Sc",
        "outputId": "8bf0a919-2163-4d7f-a1fc-5347e4bc9541"
      },
      "source": [
        "title_data.tail()"
      ],
      "execution_count": null,
      "outputs": [
        {
          "data": {
            "text/html": [
              "<div>\n",
              "<style scoped>\n",
              "    .dataframe tbody tr th:only-of-type {\n",
              "        vertical-align: middle;\n",
              "    }\n",
              "\n",
              "    .dataframe tbody tr th {\n",
              "        vertical-align: top;\n",
              "    }\n",
              "\n",
              "    .dataframe thead th {\n",
              "        text-align: right;\n",
              "    }\n",
              "</style>\n",
              "<table border=\"1\" class=\"dataframe\">\n",
              "  <thead>\n",
              "    <tr style=\"text-align: right;\">\n",
              "      <th></th>\n",
              "      <th>title</th>\n",
              "      <th>length</th>\n",
              "    </tr>\n",
              "  </thead>\n",
              "  <tbody>\n",
              "    <tr>\n",
              "      <th>40428</th>\n",
              "      <td>movement model cellphonebase positioning</td>\n",
              "      <td>40</td>\n",
              "    </tr>\n",
              "    <tr>\n",
              "      <th>40429</th>\n",
              "      <td>support network</td>\n",
              "      <td>15</td>\n",
              "    </tr>\n",
              "    <tr>\n",
              "      <th>40430</th>\n",
              "      <td>compute jacobian compliance matrix externally ...</td>\n",
              "      <td>56</td>\n",
              "    </tr>\n",
              "    <tr>\n",
              "      <th>40431</th>\n",
              "      <td>toolchain programming simulating study archite...</td>\n",
              "      <td>51</td>\n",
              "    </tr>\n",
              "    <tr>\n",
              "      <th>40432</th>\n",
              "      <td>ontology integrate information domain patent</td>\n",
              "      <td>44</td>\n",
              "    </tr>\n",
              "  </tbody>\n",
              "</table>\n",
              "</div>"
            ],
            "text/plain": [
              "                                                   title  length\n",
              "40428           movement model cellphonebase positioning      40\n",
              "40429                                    support network      15\n",
              "40430  compute jacobian compliance matrix externally ...      56\n",
              "40431  toolchain programming simulating study archite...      51\n",
              "40432       ontology integrate information domain patent      44"
            ]
          },
          "execution_count": 90,
          "metadata": {},
          "output_type": "execute_result"
        }
      ]
    },
    {
      "cell_type": "code",
      "metadata": {
        "id": "JeadrUXKY7Sc",
        "outputId": "1c4adae3-4b17-467d-dd23-07491a137fb4"
      },
      "source": [
        "title_data.describe()"
      ],
      "execution_count": null,
      "outputs": [
        {
          "data": {
            "text/html": [
              "<div>\n",
              "<style scoped>\n",
              "    .dataframe tbody tr th:only-of-type {\n",
              "        vertical-align: middle;\n",
              "    }\n",
              "\n",
              "    .dataframe tbody tr th {\n",
              "        vertical-align: top;\n",
              "    }\n",
              "\n",
              "    .dataframe thead th {\n",
              "        text-align: right;\n",
              "    }\n",
              "</style>\n",
              "<table border=\"1\" class=\"dataframe\">\n",
              "  <thead>\n",
              "    <tr style=\"text-align: right;\">\n",
              "      <th></th>\n",
              "      <th>length</th>\n",
              "    </tr>\n",
              "  </thead>\n",
              "  <tbody>\n",
              "    <tr>\n",
              "      <th>count</th>\n",
              "      <td>40433.000000</td>\n",
              "    </tr>\n",
              "    <tr>\n",
              "      <th>mean</th>\n",
              "      <td>46.003388</td>\n",
              "    </tr>\n",
              "    <tr>\n",
              "      <th>std</th>\n",
              "      <td>14.590530</td>\n",
              "    </tr>\n",
              "    <tr>\n",
              "      <th>min</th>\n",
              "      <td>4.000000</td>\n",
              "    </tr>\n",
              "    <tr>\n",
              "      <th>25%</th>\n",
              "      <td>36.000000</td>\n",
              "    </tr>\n",
              "    <tr>\n",
              "      <th>50%</th>\n",
              "      <td>45.000000</td>\n",
              "    </tr>\n",
              "    <tr>\n",
              "      <th>75%</th>\n",
              "      <td>55.000000</td>\n",
              "    </tr>\n",
              "    <tr>\n",
              "      <th>max</th>\n",
              "      <td>104.000000</td>\n",
              "    </tr>\n",
              "  </tbody>\n",
              "</table>\n",
              "</div>"
            ],
            "text/plain": [
              "             length\n",
              "count  40433.000000\n",
              "mean      46.003388\n",
              "std       14.590530\n",
              "min        4.000000\n",
              "25%       36.000000\n",
              "50%       45.000000\n",
              "75%       55.000000\n",
              "max      104.000000"
            ]
          },
          "execution_count": 92,
          "metadata": {},
          "output_type": "execute_result"
        }
      ]
    },
    {
      "cell_type": "markdown",
      "metadata": {
        "id": "40CjTlaTiWO9"
      },
      "source": [
        "# Task 4: Article Recommendation Using Bag-of-Words"
      ]
    },
    {
      "cell_type": "code",
      "metadata": {
        "id": "_WbclOH-Y7Sd"
      },
      "source": [
        "title_vectorizer = CountVectorizer()\n",
        "title_features   = title_vectorizer.fit_transform(title_data['title'])"
      ],
      "execution_count": null,
      "outputs": []
    },
    {
      "cell_type": "code",
      "metadata": {
        "id": "WqwkwUnCY7Sd"
      },
      "source": [
        "pd.set_option('display.max_colwidth', -1) "
      ],
      "execution_count": null,
      "outputs": []
    },
    {
      "cell_type": "code",
      "metadata": {
        "id": "kWnc-RfiY7Sd"
      },
      "source": [
        "def bag_of_words_based_model(row_index, num_similar_items):\n",
        "    couple_dist = pairwise_distances(title_features ,title_features [row_index])\n",
        "    indices = np.argsort(couple_dist.ravel())[0:num_similar_items]\n",
        "    df = pd.DataFrame({\n",
        "               'Title':pb_data['title'][indices].values,\n",
        "                'Euclidean similarity with the queried article': couple_dist[indices].ravel()})\n",
        "    print(\"Queried article title details:\\n\")\n",
        "    print('Title : ',pb_data['title'][indices[0]])\n",
        "    print(\"\\nRecommended articles :\\n \")\n",
        "    return df.iloc[1:,]"
      ],
      "execution_count": null,
      "outputs": []
    },
    {
      "cell_type": "code",
      "metadata": {
        "id": "XPZWrF2xY7Se",
        "outputId": "63ac7282-05d7-4f99-de11-faeb6c5bc447"
      },
      "source": [
        "bag_of_words_based_model(300,5)"
      ],
      "execution_count": null,
      "outputs": [
        {
          "name": "stdout",
          "output_type": "stream",
          "text": [
            "Queried article title details:\n",
            "\n",
            "Title :  Hypergraphbased connectivity measures for signaling pathway topologies\n",
            "\n",
            "Recommended articles :\n",
            " \n"
          ]
        },
        {
          "data": {
            "text/html": [
              "<div>\n",
              "<style scoped>\n",
              "    .dataframe tbody tr th:only-of-type {\n",
              "        vertical-align: middle;\n",
              "    }\n",
              "\n",
              "    .dataframe tbody tr th {\n",
              "        vertical-align: top;\n",
              "    }\n",
              "\n",
              "    .dataframe thead th {\n",
              "        text-align: right;\n",
              "    }\n",
              "</style>\n",
              "<table border=\"1\" class=\"dataframe\">\n",
              "  <thead>\n",
              "    <tr style=\"text-align: right;\">\n",
              "      <th></th>\n",
              "      <th>Title</th>\n",
              "      <th>Euclidean similarity with the queried article</th>\n",
              "    </tr>\n",
              "  </thead>\n",
              "  <tbody>\n",
              "    <tr>\n",
              "      <th>1</th>\n",
              "      <td>Largescale interactive numerical experiments of chaos solitons and fractals in real time via GPU in a web browser</td>\n",
              "      <td>2.44949</td>\n",
              "    </tr>\n",
              "    <tr>\n",
              "      <th>2</th>\n",
              "      <td>Seeing the elephant Parsimony functionalism and the emergent design of contempt and other sentiments</td>\n",
              "      <td>2.44949</td>\n",
              "    </tr>\n",
              "    <tr>\n",
              "      <th>3</th>\n",
              "      <td>ROBIN Using a Programmable Robot to Provide Feedback and Encouragement on Programming Tasks</td>\n",
              "      <td>2.44949</td>\n",
              "    </tr>\n",
              "    <tr>\n",
              "      <th>4</th>\n",
              "      <td>A Nearly Tight SumofSquares Lower Bound for the Planted Clique Problem</td>\n",
              "      <td>2.44949</td>\n",
              "    </tr>\n",
              "  </tbody>\n",
              "</table>\n",
              "</div>"
            ],
            "text/plain": [
              "                                                                                                               Title  \\\n",
              "1  Largescale interactive numerical experiments of chaos solitons and fractals in real time via GPU in a web browser   \n",
              "2  Seeing the elephant Parsimony functionalism and the emergent design of contempt and other sentiments                \n",
              "3  ROBIN Using a Programmable Robot to Provide Feedback and Encouragement on Programming Tasks                         \n",
              "4  A Nearly Tight SumofSquares Lower Bound for the Planted Clique Problem                                              \n",
              "\n",
              "   Euclidean similarity with the queried article  \n",
              "1  2.44949                                        \n",
              "2  2.44949                                        \n",
              "3  2.44949                                        \n",
              "4  2.44949                                        "
            ]
          },
          "execution_count": 111,
          "metadata": {},
          "output_type": "execute_result"
        }
      ]
    },
    {
      "cell_type": "markdown",
      "metadata": {
        "id": "9l3Ku-OtY7Se"
      },
      "source": [
        "# Task 5 : Article Recommendation Using TF-IDF method"
      ]
    },
    {
      "cell_type": "code",
      "metadata": {
        "id": "uIiRWVtZY7Se"
      },
      "source": [
        "tfidf_title_vectorizer = TfidfVectorizer(min_df = 0)\n",
        "\n",
        "#tfidf_title_features\n",
        "tfidf_title_features = tfidf_title_vectorizer.fit_transform(title_data['title'])\n"
      ],
      "execution_count": null,
      "outputs": []
    },
    {
      "cell_type": "code",
      "metadata": {
        "id": "2t79FreOY7Sg"
      },
      "source": [
        "def tfidf_based_model(row_index, num_similar_items):\n",
        "    couple_dist = pairwise_distances(tfidf_title_features,tfidf_title_features[row_index])\n",
        "    indices =np.argsort(couple_dist.ravel())[0:num_similar_items]\n",
        "    df = pd.DataFrame({\n",
        "               'Title':pb_data['title'][indices].values,\n",
        "                'Euclidean similarity with the queried article': couple_dist[indices].ravel()})\n",
        "    print(\"Queried article title details:\\n\")\n",
        "    print('Title : ',pb_data['title'][indices[0]])\n",
        "    print(\"\\nRecommended articles :\\n \")\n",
        "    \n",
        "    return df.iloc[1:,]"
      ],
      "execution_count": null,
      "outputs": []
    },
    {
      "cell_type": "code",
      "metadata": {
        "id": "akHHPK09Y7Sh",
        "outputId": "4881b225-8c40-414c-fe9c-2b6a06ab0ac3"
      },
      "source": [
        "tfidf_based_model(300,5)"
      ],
      "execution_count": null,
      "outputs": [
        {
          "name": "stdout",
          "output_type": "stream",
          "text": [
            "Queried article title details:\n",
            "\n",
            "Title :  Hypergraphbased connectivity measures for signaling pathway topologies\n",
            "\n",
            "Recommended articles :\n",
            " \n"
          ]
        },
        {
          "data": {
            "text/html": [
              "<div>\n",
              "<style scoped>\n",
              "    .dataframe tbody tr th:only-of-type {\n",
              "        vertical-align: middle;\n",
              "    }\n",
              "\n",
              "    .dataframe tbody tr th {\n",
              "        vertical-align: top;\n",
              "    }\n",
              "\n",
              "    .dataframe thead th {\n",
              "        text-align: right;\n",
              "    }\n",
              "</style>\n",
              "<table border=\"1\" class=\"dataframe\">\n",
              "  <thead>\n",
              "    <tr style=\"text-align: right;\">\n",
              "      <th></th>\n",
              "      <th>Title</th>\n",
              "      <th>Euclidean similarity with the queried article</th>\n",
              "    </tr>\n",
              "  </thead>\n",
              "  <tbody>\n",
              "    <tr>\n",
              "      <th>1</th>\n",
              "      <td>FronthaulAware SoftwareDefined Wireless Networks Resource Allocation and User Scheduling</td>\n",
              "      <td>1.040481</td>\n",
              "    </tr>\n",
              "    <tr>\n",
              "      <th>2</th>\n",
              "      <td>Robotassisted smartphone localization for human indoor tracking</td>\n",
              "      <td>1.140169</td>\n",
              "    </tr>\n",
              "    <tr>\n",
              "      <th>3</th>\n",
              "      <td>Query Based Adaptive Reranking for Person Reidentification</td>\n",
              "      <td>1.179124</td>\n",
              "    </tr>\n",
              "    <tr>\n",
              "      <th>4</th>\n",
              "      <td>Why Are FGM Copulas Successful A Simple Explanation</td>\n",
              "      <td>1.207017</td>\n",
              "    </tr>\n",
              "  </tbody>\n",
              "</table>\n",
              "</div>"
            ],
            "text/plain": [
              "                                                                                      Title  \\\n",
              "1  FronthaulAware SoftwareDefined Wireless Networks Resource Allocation and User Scheduling   \n",
              "2  Robotassisted smartphone localization for human indoor tracking                            \n",
              "3  Query Based Adaptive Reranking for Person Reidentification                                 \n",
              "4  Why Are FGM Copulas Successful A Simple Explanation                                        \n",
              "\n",
              "   Euclidean similarity with the queried article  \n",
              "1  1.040481                                       \n",
              "2  1.140169                                       \n",
              "3  1.179124                                       \n",
              "4  1.207017                                       "
            ]
          },
          "execution_count": 115,
          "metadata": {},
          "output_type": "execute_result"
        }
      ]
    },
    {
      "cell_type": "markdown",
      "metadata": {
        "id": "4ARzY9_Zi-Va"
      },
      "source": [
        "# References:\n",
        "1. Ricci F, Rokach L, Bracha S, Kantor PB. Recommender Systems Handbook. Boston,\n",
        "USA: Springer.\n",
        "2. Lops P, de Gemmis M, Semeraro G. Content-based recommender systems: State of the\n",
        "art and trends. Recommender Systems Handbook. 1st ed. Boston, USA: Springer, 2011,\n",
        "pp. 73-105.\n",
        "\n",
        "3. https://www.alpha-quantum.com/blog/content-based-recommendation-engine/content-\n",
        "based-recommender-system-with-python/\n",
        "\n",
        "4. https://towardsdatascience.com/recommending-news-articles-based-on-already-read-\n",
        "articles-627695221fe8\n",
        "\n",
        "5. https://thecleverprogrammer.com/2020/10/11/what-is-a-recommendation-system-in-\n",
        "machine-learning/"
      ]
    },
    {
      "cell_type": "code",
      "metadata": {
        "id": "qGHi1HCijDi0"
      },
      "source": [
        ""
      ],
      "execution_count": null,
      "outputs": []
    }
  ]
}